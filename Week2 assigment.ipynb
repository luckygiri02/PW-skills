{
 "cells": [
  {
   "cell_type": "code",
   "execution_count": null,
   "id": "10fb944a",
   "metadata": {},
   "outputs": [],
   "source": [
    "Q1. How do you comment code in Python? What are the different types of comments?\n",
    "\n",
    "    In Python, there are some ways to comment your code for user readability, and these lines are ignored by the Python interpreter.\n",
    "    So, there are ways to comment a code or line in Python.\n",
    "\n",
    "    Generally, two ways are used:\n",
    "\n",
    "  1. For single-line comments: We use the \"#\" symbol to do a single-line comment in Python. \n",
    "                             At the beginning of the line, you put \"#\" symbol to comment a whole line.\n",
    "\n",
    "   Example: # This line was commented by a single-line comment.\n",
    "\n",
    "  2. For multiline comments: We use triple quotes (''' ''' or \"\"\" \"\"\") to perform multiline comments. \n",
    "                      These methods are used to comment the whole paragraph with an easy manner.\n",
    "    Example:\n",
    "        '''\n",
    "        Hello all, these lines\n",
    "        are commented by multiline\n",
    "        comment method. Thank you.\n",
    "        '''\n",
    "\n",
    "                                "
   ]
  },
  {
   "cell_type": "code",
   "execution_count": null,
   "id": "22a3057c",
   "metadata": {},
   "outputs": [],
   "source": [
    "Q2. What are variables in Python? How do you declare and assign values to variables? \n",
    "\n",
    "   Ans :- Variables are entities used to store data for further usage. In Python or other programming languages,\n",
    "        we use the assignment operator \"=\" to give data to a variable. Python is a dynamically typed language, \n",
    "        so there's no need to declare a data type for a variable.\n",
    "\n",
    "    Example: count = 2310 \n",
    "        "
   ]
  },
  {
   "cell_type": "code",
   "execution_count": null,
   "id": "6766d3ae",
   "metadata": {},
   "outputs": [],
   "source": [
    "Q3. How do you convert one data type to another in Python?\n",
    " Ans:-\n",
    "        In Python, you can convert one data type to another using type conversion functions or constructors. \n",
    "Here are some commonly used type conversion functions:\n",
    "int(): Converts a value to an integer.\n",
    "float(): Converts a value to a floating-point number.\n",
    "str(): Converts a value to a string.\n",
    "list(): Converts a value to a list.\n",
    "tuple(): Converts a value to a tuple.\n",
    "bool(): Converts a value to a boolean.\n",
    "\n",
    "Example:\n",
    "# Converting a string to an integer\n",
    "num_str = \"10\"\n",
    "num_int = int(num_str)\n",
    "print(num_int)  # Output: 10\n",
    "\n",
    "# Converting a float to an integer\n",
    "num_float = 3.14\n",
    "num_int = int(num_float)\n",
    "print(num_int)  # Output: 3"
   ]
  },
  {
   "cell_type": "code",
   "execution_count": null,
   "id": "95361f7b",
   "metadata": {},
   "outputs": [],
   "source": [
    "Q4. How do you write and execute a Python script from the command line?\n",
    "Ans :- \n",
    "To write and execute a Python script from the command line, follow these steps:\n",
    "1.\tOpen a text editor and write your Python code.\n",
    "2.\tSave the file with a \".py\" extension, for example, \"script.py\".\n",
    "3.\tOpen a command prompt or terminal.\n",
    "4.\tNavigate to the directory where the Python script is saved using the cd command.\n",
    "5.\tRun the script using the command python script.py (replace \"script.py\" with the actual filename)."
   ]
  },
  {
   "cell_type": "code",
   "execution_count": null,
   "id": "6a055257",
   "metadata": {},
   "outputs": [],
   "source": [
    "Q5. Given a list my_list = [1, 2, 3, 4, 5], write the code to slice the list and obtain the sub-list [2, 3].\n",
    "Ans :-\n",
    "To slice the list [1, 2, 3, 4, 5] and obtain the sub-list [2, 3], you can use the following code:\n",
    "\n",
    "Program :\n",
    "my_list = [1, 2, 3, 4, 5]\n",
    "sub_list = my_list[1:3]\n",
    "print(sub_list)  # Output: [2, 3]"
   ]
  },
  {
   "cell_type": "code",
   "execution_count": null,
   "id": "bdde2cc6",
   "metadata": {},
   "outputs": [],
   "source": [
    "Q6. What is a complex number in mathematics, and how is it represented in Python?\n",
    "Ans :-\n",
    "In mathematics, a complex number is a number of the form a + bi, where a and b are real numbers, and i is the imaginary \n",
    "unit (√-1). In Python, complex numbers are represented using the complex data type.\n",
    "\n",
    "Example:\n",
    "# Creating a complex number\n",
    "z = 3 + 4j\n",
    "print(z)  # Output: (3+4j)\n",
    "# Accessing the real and imaginary parts\n",
    "print(z.real)  # Output: 3.0\n",
    "print(z.imag)  # Output: 4.0"
   ]
  },
  {
   "cell_type": "code",
   "execution_count": null,
   "id": "ad55ac58",
   "metadata": {},
   "outputs": [],
   "source": [
    "Q7. What is the correct way to declare a variable named age and assign the value 25 to it?\n",
    "Ans :-\n",
    "The correct way to declare a variable named \"age\" and assign the value 25 to it in Python is as follows:\n",
    "age = 25"
   ]
  },
  {
   "cell_type": "code",
   "execution_count": null,
   "id": "bfc53001",
   "metadata": {},
   "outputs": [],
   "source": [
    "Q8. Declare a variable named price and assign the value 9.99 to it. What data type does this variable belong to?\n",
    "Ans :-\n",
    "Declare a variable named price and assign the value 9.99 to it.\n",
    "Program :\n",
    "price = 9.99\n",
    "print(\"The data type of 'price' is:\", type(price)) \n",
    "\n",
    "# Output : The data type of 'price' is: <class 'float'>"
   ]
  },
  {
   "cell_type": "code",
   "execution_count": null,
   "id": "1b289393",
   "metadata": {},
   "outputs": [],
   "source": [
    "Q9. Create a variable named name and assign your full name to it as a string. How would you print the value of this \n",
    "variable?\n",
    "Ans :-\n",
    "\n",
    "Program :\n",
    "name = \"Lucky Giri\"\n",
    "print(\"My name is :\", name)\n",
    "\n",
    "# Output : My name is : Lucky Giri"
   ]
  },
  {
   "cell_type": "code",
   "execution_count": null,
   "id": "60866355",
   "metadata": {},
   "outputs": [],
   "source": [
    "Q10. Given the string \"Hello, World!\", extract the substring \"World\".\n",
    "Ans :-\n",
    "Program :\n",
    "text = \"Hello, World!\"\n",
    "substring = text[7:12]\n",
    "print(\"The extracted substring is:\", substring)\n",
    "\n",
    "# Output : The extracted substring is: World"
   ]
  },
  {
   "cell_type": "code",
   "execution_count": null,
   "id": "406e8b25",
   "metadata": {},
   "outputs": [],
   "source": [
    "Q11. Create a variable named \"is_student\" and assign it a boolean value indicating whether you are currently a student or\n",
    "not.\n",
    "Ans :\n",
    "Program :\n",
    "is_student = True\n",
    "print(\"I am currently student : \", is_student)\n",
    "\n",
    "# Output : I am currently student : True"
   ]
  }
 ],
 "metadata": {
  "kernelspec": {
   "display_name": "Python 3 (ipykernel)",
   "language": "python",
   "name": "python3"
  },
  "language_info": {
   "codemirror_mode": {
    "name": "ipython",
    "version": 3
   },
   "file_extension": ".py",
   "mimetype": "text/x-python",
   "name": "python",
   "nbconvert_exporter": "python",
   "pygments_lexer": "ipython3",
   "version": "3.11.3"
  }
 },
 "nbformat": 4,
 "nbformat_minor": 5
}
