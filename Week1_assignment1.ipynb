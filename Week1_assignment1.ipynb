{
 "cells": [
  {
   "cell_type": "code",
   "execution_count": null,
   "id": "a1dae37c",
   "metadata": {},
   "outputs": [],
   "source": [
    "# Q1. Create one variable containing following type of data:\n",
    "# (i) string\n",
    "# (ii) list\n",
    "# (iii) float\n",
    "# (iv) tuple\n",
    "\n",
    "# Ans :-\n",
    "\n",
    "# string\n",
    "my_string = \"Sanket Rathod\"\n",
    "\n",
    "# list\n",
    "my_list = [9, 5, 2023, \"Data\", \"Science\", \"Assignment\"]\n",
    "\n",
    "# float\n",
    "my_float = 10.27\n",
    "\n",
    "# tuple\n",
    "my_tuple = (11, 5, 2023, \"Pw\", \"Skills\", \"Lab\")"
   ]
  },
  {
   "cell_type": "code",
   "execution_count": 1,
   "id": "c3913c1a",
   "metadata": {},
   "outputs": [
    {
     "name": "stdout",
     "output_type": "stream",
     "text": [
      "<class 'str'>\n",
      "<class 'str'>\n",
      "<class 'list'>\n",
      "<class 'float'>\n"
     ]
    }
   ],
   "source": [
    "# Q2. Given are some following variables containing data:\n",
    "var1 = ''\n",
    "var2 = '[ DS , ML , Python]'\n",
    "var3 = [ 'DS' , 'ML' , 'Python' ]\n",
    "var4 = 1.\n",
    "\n",
    "# What will be the data type of the above given variable.\n",
    "\n",
    "#Ans :- \n",
    "\n",
    "print(type(var1)) # String\n",
    "print(type(var2)) # String\n",
    "print(type(var3)) # List\n",
    "print(type(var4)) # Flot"
   ]
  },
  {
   "cell_type": "code",
   "execution_count": 2,
   "id": "ee9efa68",
   "metadata": {},
   "outputs": [
    {
     "name": "stdout",
     "output_type": "stream",
     "text": [
      "3.3333333333333335\n",
      "1\n",
      "3\n",
      "8\n"
     ]
    }
   ],
   "source": [
    "# Q3. Explain the use of the following operators using an example:\n",
    "# (i) /\n",
    "# (ii) %\n",
    "# (iii) //\n",
    "# (iv) **\n",
    "\n",
    "# Ans :- \n",
    "\n",
    "# (i) /: The division operator / is used to divide one number by another. It returns the quotient as a floating-point number. Here's an example:\n",
    "# division\n",
    "a = 10\n",
    "b = 3\n",
    "c = a / b\n",
    "print(c)  # output: 3.3333333333333335\n",
    "\n",
    "#(ii) %: The modulus operator % is used to get the remainder of division. It returns the remainder after dividing the first number by the second. Here's an example:\n",
    "# modulus\n",
    "a = 10\n",
    "b = 3\n",
    "c = a % b\n",
    "print(c)  # output: 1\n",
    "\n",
    "#(iii) //: The floor division operator // is used to divide two numbers and return the quotient as an integer, discarding any remainder. Here's an example:\n",
    "# floor division\n",
    "a = 10\n",
    "b = 3\n",
    "c = a // b\n",
    "print(c)  # output: 3\n",
    "\n",
    "#(iv) **: The exponentiation operator ** is used to raise a number to a power. The first operand is the base and the second operand is the exponent. Here's an example:\n",
    "# exponentiation\n",
    "a = 2\n",
    "b = 3\n",
    "c = a ** b\n",
    "print(c)  # output: 8"
   ]
  },
  {
   "cell_type": "code",
   "execution_count": 4,
   "id": "aa69f5af",
   "metadata": {},
   "outputs": [
    {
     "name": "stdout",
     "output_type": "stream",
     "text": [
      "Element: 42, Data Type: <class 'int'>\n",
      "Element: Hello, World!, Data Type: <class 'str'>\n",
      "Element: 3.14159, Data Type: <class 'float'>\n",
      "Element: True, Data Type: <class 'bool'>\n",
      "Element: [1, 2, 3], Data Type: <class 'list'>\n",
      "Element: {'name': 'Alice', 'age': 30}, Data Type: <class 'dict'>\n",
      "Element: (4, 5), Data Type: <class 'tuple'>\n",
      "Element: None, Data Type: <class 'NoneType'>\n",
      "Element: (2+3j), Data Type: <class 'complex'>\n",
      "Element: 42.0, Data Type: <class 'float'>\n"
     ]
    }
   ],
   "source": [
    "# Q4. Create a list of length 10 of your choice containing multiple types of data. Using for loop print the element and its data type.\n",
    "my_list = [42, \"Hello, World!\", 3.14159, True, [1, 2, 3], {\"name\": \"Alice\", \"age\": 30}, (4, 5), None, 2 + 3j, 42.0]\n",
    "\n",
    "for element in my_list:\n",
    "    print(f\"Element: {element}, Data Type: {type(element)}\")\n"
   ]
  },
  {
   "cell_type": "code",
   "execution_count": 5,
   "id": "7fd529f2",
   "metadata": {},
   "outputs": [
    {
     "name": "stdout",
     "output_type": "stream",
     "text": [
      "Enter the A : 42\n",
      "Enter the B : 9\n",
      "{A} is not divisible by {B}.\n"
     ]
    }
   ],
   "source": [
    "# Q5. Using a while loop, verify if the number A is purely divisible by number B and if so then how many times it can be divisible.\n",
    "A = int(input(\"Enter the A : \"))\n",
    "B = int(input(\"Enter the B : \"))\n",
    "\n",
    "while A % B == 0:\n",
    "    C=int(A/B)\n",
    "    print(f\"{A} is divisible by {B}, and can be divided {C} times.\")\n",
    "    break\n",
    "else:\n",
    "    print(\"{A} is not divisible by {B}.\")"
   ]
  },
  {
   "cell_type": "code",
   "execution_count": 6,
   "id": "5b40ef3a",
   "metadata": {},
   "outputs": [
    {
     "name": "stdout",
     "output_type": "stream",
     "text": [
      "1 is not divisible by 3.\n",
      "3 is divisible by 3.\n",
      "4 is not divisible by 3.\n",
      "6 is divisible by 3.\n",
      "7 is not divisible by 3.\n",
      "9 is divisible by 3.\n",
      "10 is not divisible by 3.\n",
      "12 is divisible by 3.\n",
      "14 is not divisible by 3.\n",
      "15 is divisible by 3.\n",
      "17 is not divisible by 3.\n",
      "18 is divisible by 3.\n",
      "20 is not divisible by 3.\n",
      "21 is divisible by 3.\n",
      "23 is not divisible by 3.\n",
      "24 is divisible by 3.\n",
      "26 is not divisible by 3.\n",
      "27 is divisible by 3.\n",
      "29 is not divisible by 3.\n",
      "30 is divisible by 3.\n",
      "32 is not divisible by 3.\n",
      "33 is divisible by 3.\n",
      "35 is not divisible by 3.\n",
      "36 is divisible by 3.\n",
      "38 is not divisible by 3.\n"
     ]
    }
   ],
   "source": [
    "# Q6. Create a list containing 25 int type data. Using for loop and if-else condition print if the element is divisible by 3 or not.\n",
    "numbers = [1, 3, 4, 6, 7, 9, 10, 12, 14, 15, 17, 18, 20, 21, 23, 24, 26, 27, 29, 30, 32, 33, 35, 36, 38]\n",
    "\n",
    "for num in numbers:\n",
    "    if num % 3 == 0:\n",
    "        print(f\"{num} is divisible by 3.\")\n",
    "    else:\n",
    "        print(f\"{num} is not divisible by 3.\")"
   ]
  },
  {
   "cell_type": "code",
   "execution_count": 7,
   "id": "336d6b94",
   "metadata": {},
   "outputs": [
    {
     "name": "stdout",
     "output_type": "stream",
     "text": [
      "[1, 2, 3, 4]\n"
     ]
    }
   ],
   "source": [
    "# Q7. What do you understand about mutable and immutable data types? Give examples for both showing this property.\n",
    "\n",
    "# Ans :- \n",
    "'''In programming, mutable and immutable data types are used to describe whether a data type can be changed (mutable) \n",
    "or not (immutable) after it has been created. Immutable data types are those that cannot be modified after they are created. \n",
    "Any attempt to modify them results in a new object being created.'''\n",
    "\n",
    "# Examples of immutable data types include:\n",
    "'''my_tuple = (1, 2, 3)\n",
    "my_tuple[0] = 4 # This will raise a TypeError because tuples are immutable'''\n",
    "\n",
    "'''Mutable data types, on the other hand, can be changed after they are created. \n",
    "Any modification made to the object affects the original object itself.''' \n",
    "\n",
    "# Examples of mutable data types include:\n",
    "my_list = [1, 2, 3]\n",
    "my_list.append(4)  # This adds a new element to the list\n",
    "print(my_list)  # Output: [1, 2, 3, 4]"
   ]
  }
 ],
 "metadata": {
  "kernelspec": {
   "display_name": "Python 3 (ipykernel)",
   "language": "python",
   "name": "python3"
  },
  "language_info": {
   "codemirror_mode": {
    "name": "ipython",
    "version": 3
   },
   "file_extension": ".py",
   "mimetype": "text/x-python",
   "name": "python",
   "nbconvert_exporter": "python",
   "pygments_lexer": "ipython3",
   "version": "3.11.3"
  }
 },
 "nbformat": 4,
 "nbformat_minor": 5
}
