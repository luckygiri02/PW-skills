{
 "cells": [
  {
   "cell_type": "code",
   "execution_count": 3,
   "id": "63def155",
   "metadata": {},
   "outputs": [
    {
     "name": "stdout",
     "output_type": "stream",
     "text": [
      "[('Virat Kohli', 24936), ('Jack Kallis', 25534), ('Ricky Ponting', 27483), ('Sachin Tendulkar', 34357)]\n"
     ]
    }
   ],
   "source": [
    "Q1. Create a python program to sort the given list of tuples based on integer value using a\n",
    "    lambda function.\n",
    "               [('Sachin Tendulkar', 34357), ('Ricky Ponting', 27483), ('Jack Kallis', 25534), ('Virat Kohli', 24936)]\n",
    "        \n",
    "Ans :'''\n",
    "     Here's the program of sorted array in python using the lambda function\n",
    "     '''\n",
    "   #program:-\n",
    "\n",
    "data = [('Sachin Tendulkar', 34357), ('Ricky Ponting', 27483), ('Jack Kallis', 25534), ('Virat Kohli', 24936)]\n",
    "\n",
    "sorted_data = sorted(data, key=lambda x: x[1])\n",
    "\n",
    "print(sorted_data)\n"
   ]
  },
  {
   "cell_type": "code",
   "execution_count": 9,
   "id": "66c9b357",
   "metadata": {},
   "outputs": [
    {
     "name": "stdout",
     "output_type": "stream",
     "text": [
      "Squares of the given number: [1, 4, 9, 16, 25, 36, 49, 64, 81, 100]\n"
     ]
    }
   ],
   "source": [
    "'''Q2. Write a Python Program to find the squares of all the numbers in the given list of integers using\n",
    "    lambda and map functions.\n",
    "    [1, 2, 3, 4, 5, 6, 7, 8, 9, 10]'''\n",
    "    \n",
    "Ans #Here's the code of square of number in the given list\n",
    "\n",
    "l1= [1, 2, 3, 4, 5, 6, 7, 8, 9, 10]\n",
    "Squares =list(map(lambda x:x**2,l1))\n",
    "\n",
    "print(\"Squares of the given number:\",Squares)"
   ]
  },
  {
   "cell_type": "code",
   "execution_count": 16,
   "id": "000866d2",
   "metadata": {},
   "outputs": [
    {
     "name": "stdout",
     "output_type": "stream",
     "text": [
      "The converted data into tuple: ('1', '2', '3', '4', '5', '6', '7', '8', '9', '10')\n",
      "Type of given data: <class 'tuple'>\n"
     ]
    }
   ],
   "source": [
    "Q3. Write a python program to convert the given list of integers into a tuple of strings. Use map and\n",
    "     lambda functions\n",
    "Given String: [1, 2, 3, 4, 5, 6, 7, 8, 9, 10]\n",
    "Expected output: ('1', '2', '3', '4', '5', '6', '7', '8', '9', '10')\n",
    "    \n",
    "    #Heres the code of convert list into tuples with use of map & lambda function\n",
    "    \n",
    "l2= [1, 2, 3, 4, 5, 6, 7, 8, 9, 10]\n",
    "L2= tuple(map(lambda x:str(x),l2))\n",
    "\n",
    "print(\"The converted data into tuple:\",L2)\n",
    "print(\"Type of given data:\",type(L2))    "
   ]
  },
  {
   "cell_type": "code",
   "execution_count": 1,
   "id": "9274eb18",
   "metadata": {},
   "outputs": [
    {
     "name": "stdout",
     "output_type": "stream",
     "text": [
      "15511210043330985984000000\n"
     ]
    }
   ],
   "source": [
    "'''Q4. Write a python program using reduce function to compute the product of a list containing numbers\n",
    "    from 1 to 25.'''\n",
    "    # Program :-\n",
    "from functools import reduce\n",
    "\n",
    "numbers = list(range(1, 26))\n",
    "\n",
    "product = reduce(lambda x, y: x * y, numbers)\n",
    "print(product)"
   ]
  },
  {
   "cell_type": "code",
   "execution_count": 2,
   "id": "0f80741e",
   "metadata": {},
   "outputs": [
    {
     "name": "stdout",
     "output_type": "stream",
     "text": [
      "[6, 60, 90, 120]\n"
     ]
    }
   ],
   "source": [
    "'''\n",
    "Q5. Write a python program to filter the numbers in a given list that are divisible by 2 and 3 using the\n",
    "filter function.\n",
    "'''\n",
    "\n",
    "# Program :-\n",
    "numbers = [2, 3, 6, 9, 27, 60, 90, 120, 55, 46]\n",
    "\n",
    "divisible_by_2_and_3 = list(filter(lambda x: x % 2 == 0 and x % 3 == 0, numbers))\n",
    "print(divisible_by_2_and_3)\n"
   ]
  },
  {
   "cell_type": "code",
   "execution_count": 5,
   "id": "f09cf1c2",
   "metadata": {},
   "outputs": [
    {
     "name": "stdout",
     "output_type": "stream",
     "text": [
      "These are the palindrome list: ['php', 'aba', 'radar', 'level']\n"
     ]
    }
   ],
   "source": [
    "'''\n",
    "Q6. Write a python program to find palindromes in the given list of strings using lambda and filter\n",
    "function.\n",
    "['python', 'php', 'aba', 'radar', 'level']\n",
    "'''\n",
    "\n",
    "# Program :-\n",
    "strings = ['python', 'php', 'aba', 'radar', 'level']\n",
    "\n",
    "palindromes = list(filter(lambda x: x == x[::-1], strings))\n",
    "print(\"These are the palindrome list:\", palindromes)"
   ]
  },
  {
   "cell_type": "code",
   "execution_count": null,
   "id": "81348128",
   "metadata": {},
   "outputs": [],
   "source": []
  }
 ],
 "metadata": {
  "kernelspec": {
   "display_name": "Python 3 (ipykernel)",
   "language": "python",
   "name": "python3"
  },
  "language_info": {
   "codemirror_mode": {
    "name": "ipython",
    "version": 3
   },
   "file_extension": ".py",
   "mimetype": "text/x-python",
   "name": "python",
   "nbconvert_exporter": "python",
   "pygments_lexer": "ipython3",
   "version": "3.11.5"
  }
 },
 "nbformat": 4,
 "nbformat_minor": 5
}
