{
 "cells": [
  {
   "cell_type": "code",
   "execution_count": 4,
   "id": "3d660520",
   "metadata": {},
   "outputs": [
    {
     "name": "stdout",
     "output_type": "stream",
     "text": [
      "you are driving 1969 mushtang Ford\n"
     ]
    }
   ],
   "source": [
    "#Q1. Explain Class and Object with respect to Object-Oriented Programming. Give a suitable example.\n",
    "'''\n",
    "Ans:\n",
    "In object-oriented programming (OOP), a class is a blueprint for creating objects (instances), \n",
    "providing initial values for state (member variables or attributes) and implementations of behavior (member functions or methods).\n",
    "An object, on the other hand, is a specific instance of a class. \n",
    "It can be thought of as a tangible 'thing' that is built from the class blueprint and has its own unique state and behavior.\n",
    "'''\n",
    "#Example output\n",
    "class car:\n",
    "    def __init__(self,year, model,car_name):\n",
    "        self.year = year\n",
    "        self.model = model\n",
    "        self.car_model =car_name\n",
    "        \n",
    "    def drive(self):\n",
    "        print(\"you are driving\",self.year,self.model,self.car_model)\n",
    "        \n",
    "car1 = car(1969 , \"mushtang\" ,\"Ford\")  \n",
    "car1.drive()"
   ]
  },
  {
   "cell_type": "code",
   "execution_count": null,
   "id": "03074ec9",
   "metadata": {},
   "outputs": [],
   "source": [
    "#Q2. Name the four pillars of OOPs.\n",
    "\n",
    "'''\n",
    "Ans:\n",
    "    The four pillars of object-oriented programming (OOP) are:\n",
    "    1.Encapsulation\n",
    "    2.Inheritance\n",
    "    3.Abstraction\n",
    "    4.Polymorphism\n",
    "'''"
   ]
  },
  {
   "cell_type": "code",
   "execution_count": 15,
   "id": "e97f822d",
   "metadata": {},
   "outputs": [
    {
     "name": "stdout",
     "output_type": "stream",
     "text": [
      "Amazon is hiring you on 1.2cr per annum and giving you joinig bonus of 20 lakh.\n"
     ]
    }
   ],
   "source": [
    "#Q3. Explain why the __init__() function is used. Give a suitable example.\n",
    "'''\n",
    "Ans: \n",
    "     The __init__() function is a special method in Python classes that is automatically called when a new object is created. \n",
    "     It is used to initialize the object's attributes and perform any other necessary setup or initialization.\n",
    "     The self parameter in the __init__() method refers to the instance of the object itself and is used to access the class\n",
    "     variables and methods.\n",
    "'''\n",
    "#example output\n",
    "class define:\n",
    "    def __init__(self, package , bonus):\n",
    "        self.package = package\n",
    "        self.bonus = bonus\n",
    "        \n",
    "    def offer(self):\n",
    "        print(f\"Amazon is hiring you on {self.package} and giving you joinig bonus of {self.bonus}.\")\n",
    "        \n",
    "d = define(\"1.2cr per annum\",\"20 lakh\") \n",
    "d.offer()"
   ]
  },
  {
   "cell_type": "code",
   "execution_count": 17,
   "id": "78c5d1be",
   "metadata": {},
   "outputs": [
    {
     "name": "stdout",
     "output_type": "stream",
     "text": [
      "200.96\n"
     ]
    }
   ],
   "source": [
    "#Q4. Why self is used in OOPs?\n",
    "'''\n",
    "Ans:\n",
    "    In object-oriented programming (OOP), the self keyword is used as the first parameter in the method definitions within a \n",
    "    class. It represents the instance of the class (the object) that the method is being called on. By convention, self is the\n",
    "    preferred name for this parameter, although it can be named differently\n",
    "\n",
    "'''\n",
    "# Program :-\n",
    "class Circle:\n",
    "    def __init__(self, radius):\n",
    "        self.radius = radius\n",
    "\n",
    "    def calculate_area(self):\n",
    "        area = 3.14 * (self.radius ** 2)\n",
    "        return area\n",
    "\n",
    "circle1 = Circle(8)\n",
    "print(circle1.calculate_area()) "
   ]
  },
  {
   "cell_type": "code",
   "execution_count": 18,
   "id": "6545dccf",
   "metadata": {},
   "outputs": [
    {
     "name": "stdout",
     "output_type": "stream",
     "text": [
      "Breathing...\n",
      "Eating...\n",
      "Sleeping...\n",
      "Barking...\n"
     ]
    }
   ],
   "source": [
    "#Q5. What is inheritance? Give an example for each type of inheritance.\n",
    "'''\n",
    "Ans:\n",
    "     Inheritance is a fundamental concept in object-oriented programming (OOP) that allows a class to inherit attributes and \n",
    "     behaviors from another class. The class that is being inherited from is called the superclass or base class, and the class\n",
    "    that inherits from it is called the subclass or derived class. Inheritance promotes code reuse, modularity, and \n",
    "     extensibility.\n",
    "\n",
    "'''\n",
    "# Program :-\n",
    "\n",
    "#1. Single Inheritance\n",
    "class Animal:\n",
    "    def breathe(self):\n",
    "        print(\"Breathing...\")\n",
    "\n",
    "class Dog(Animal):\n",
    "    def bark(self):\n",
    "        print(\"Barking...\")\n",
    "\n",
    "dog = Dog()\n",
    "dog.breathe()  \n",
    "\n",
    "\n",
    "# Multilevel Inheritance\n",
    "class Animal:\n",
    "    def eat(self):\n",
    "        print(\"Eating...\")\n",
    "\n",
    "class Mammal(Animal):\n",
    "    def sleep(self):\n",
    "        print(\"Sleeping...\")\n",
    "\n",
    "class Dog(Mammal):\n",
    "    def bark(self):\n",
    "        print(\"Barking...\")\n",
    "\n",
    "dog = Dog()\n",
    "dog.eat()  \n",
    "dog.sleep() \n",
    "dog.bark()  \n"
   ]
  },
  {
   "cell_type": "code",
   "execution_count": null,
   "id": "b070839a",
   "metadata": {},
   "outputs": [],
   "source": []
  }
 ],
 "metadata": {
  "kernelspec": {
   "display_name": "Python 3 (ipykernel)",
   "language": "python",
   "name": "python3"
  },
  "language_info": {
   "codemirror_mode": {
    "name": "ipython",
    "version": 3
   },
   "file_extension": ".py",
   "mimetype": "text/x-python",
   "name": "python",
   "nbconvert_exporter": "python",
   "pygments_lexer": "ipython3",
   "version": "3.11.5"
  }
 },
 "nbformat": 4,
 "nbformat_minor": 5
}
