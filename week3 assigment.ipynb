{
 "cells": [
  {
   "cell_type": "code",
   "execution_count": null,
   "id": "0833f853",
   "metadata": {},
   "outputs": [],
   "source": [
    "Q1. Which keyword is used to create a function? Create a function to return a list of odd numbers in the\n",
    "    range of 1 to 25.\n",
    "    \n",
    "Ans :The Keyword which are used are to create the function is \"def\". after wrriting these keyword before making a function\n",
    "    it will the name will be used as function \n",
    "    example : \"def test:\"\n",
    "LIST OF ODD NUMBER BETWEEN 1 t0 25 :-\n",
    "    def odd_no:\n",
    "        l=[]\n",
    "        for i in range(1,26):\n",
    "            if(i % 2 != 0):\n",
    "                l.append(i)\n",
    "        print (l)\n",
    "        \n",
    "OUTPUT : [1, 3, 5, 7, 9, 11, 13, 15, 17, 19, 21, 23, 25]"
   ]
  },
  {
   "cell_type": "code",
   "execution_count": 33,
   "id": "9069ca9b",
   "metadata": {},
   "outputs": [
    {
     "name": "stdout",
     "output_type": "stream",
     "text": [
      "Positional arguments (*args):\n",
      "PwSkills\n",
      "Data Science\n",
      "\n",
      "Keyword arguments (**kwargs):\n",
      "Role = Data Scientist\n",
      "Duration = 9 Months\n"
     ]
    }
   ],
   "source": [
    "Q2. Why *args and **kwargs is used in some functions? Create a function each for *args and **kwargs\n",
    "    to demonstrate their use.\n",
    "    \n",
    "Ans   *args (Arbitrary Arguments): The args parameter allows a function to accept any number of positional arguments. \n",
    "        It collects all the positional arguments passed to the function and stores them in a tuple. \n",
    "\n",
    "    **kwargs (Keyword Arguments): The kwargs parameter allows a function to accept any number of keyword arguments. \n",
    "        It collects all the keyword arguments passed to the function and stores them in a dictionary. \n",
    "        \n",
    "EXAMPLE TO SHOW HOW THE WORKS:-\n",
    "def example_(*args, **kwargs):\n",
    "        \n",
    "        print(\"Positional arguments (*args):\")\n",
    "        for arg in args:\n",
    "            print(arg)\n",
    "\n",
    "        print(\"\\nKeyword arguments (**kwargs):\")\n",
    "        for key, value in kwargs.items():\n",
    "            print(f\"{key} = {value}\")\n",
    "\n",
    "# Using *args and **kwargs in a function call\n",
    "example_(\"PwSkills\", \"Data Science\", Role=\"Data Scientist\", Duration=\"9 Months\")       "
   ]
  },
  {
   "cell_type": "code",
   "execution_count": 34,
   "id": "ddfdfa05",
   "metadata": {},
   "outputs": [
    {
     "name": "stdout",
     "output_type": "stream",
     "text": [
      "First five elements:\n",
      "2\n",
      "4\n",
      "6\n",
      "8\n",
      "10\n"
     ]
    }
   ],
   "source": [
    "Q3. What is an iterator in python? Name the method used to initialise the iterator object and the method\n",
    "   used for iteration. Use these methods to print the first five elements of the given list [2, 4, 6, 8, 10, 12, 14,\n",
    "   16, 18, 20].\n",
    "\n",
    "Ans :\n",
    "'''\n",
    "In Python, an iterator is an object that represents a stream of data. It implements the iterator protocol, which requires two methods:\n",
    "\n",
    "__iter__(): This method is used to initialize the iterator object and returns the iterator object itself. It is called when you want to iterate over the data.\n",
    "\n",
    "__next__(): This method is used to retrieve the next element from the iterator. It returns the next item in the sequence. If there are no more items, it raises the StopIteration exception.\n",
    "'''\n",
    "\n",
    "# Program :-\n",
    "my_list = [2, 4, 6, 8, 10, 12, 14, 16, 18, 20]\n",
    "my_iterator = iter(my_list)\n",
    "\n",
    "print(\"First five elements:\")\n",
    "for _ in range(5):\n",
    "    element = next(my_iterator)\n",
    "    print(element)      "
   ]
  },
  {
   "cell_type": "code",
   "execution_count": 35,
   "id": "bcf27232",
   "metadata": {},
   "outputs": [
    {
     "name": "stdout",
     "output_type": "stream",
     "text": [
      "1\n",
      "2\n",
      "3\n",
      "4\n",
      "5\n"
     ]
    }
   ],
   "source": [
    "'''\n",
    "Q4. What is a generator function in python? Why yield keyword is used? Give an example of a generator\n",
    "function.\n",
    "'''\n",
    "\n",
    "# Answer :-\n",
    "'''\n",
    "A generator function in Python is a special type of function that returns an iterator (generator)\n",
    "instead of a single value. It allows you to generate a sequence of values over time, lazily, \n",
    "and one at a time, instead of generating all the values at once.\n",
    "'''\n",
    "\n",
    "# Program :-\n",
    "def number_generator():\n",
    "    num = 1\n",
    "    while True:\n",
    "        yield num\n",
    "        num += 1\n",
    "\n",
    "# Using the generator function\n",
    "my_generator = number_generator()\n",
    "\n",
    "# Generating the first five numbers\n",
    "for _ in range(5):\n",
    "    number = next(my_generator)\n",
    "    print(number)"
   ]
  },
  {
   "cell_type": "code",
   "execution_count": 36,
   "id": "10e9477a",
   "metadata": {},
   "outputs": [
    {
     "name": "stdout",
     "output_type": "stream",
     "text": [
      "2\n",
      "3\n",
      "5\n",
      "7\n",
      "11\n",
      "13\n",
      "17\n",
      "19\n",
      "23\n",
      "29\n",
      "31\n",
      "37\n",
      "41\n",
      "43\n",
      "47\n",
      "53\n",
      "59\n",
      "61\n",
      "67\n",
      "71\n"
     ]
    }
   ],
   "source": [
    "'''\n",
    "Q5. Create a generator function for prime numbers less than 1000. Use the next() method to print the\n",
    "first 20 prime numbers.\n",
    "'''\n",
    "\n",
    "# Program :-\n",
    "def prime_generator():\n",
    "    num = 2\n",
    "    while True:\n",
    "        if is_prime(num):\n",
    "            yield num\n",
    "        num += 1\n",
    "\n",
    "def is_prime(num):\n",
    "    if num < 2:\n",
    "        return False\n",
    "    for i in range(2, int(num ** 0.5) + 1):\n",
    "        if num % i == 0:\n",
    "            return False\n",
    "    return True\n",
    "\n",
    "# Using the generator function\n",
    "my_generator = prime_generator()\n",
    "\n",
    "# Generating the first 20 prime numbers\n",
    "for _ in range(20):\n",
    "    prime = next(my_generator)\n",
    "    print(prime)"
   ]
  },
  {
   "cell_type": "code",
   "execution_count": 37,
   "id": "e50aa67e",
   "metadata": {},
   "outputs": [
    {
     "name": "stdout",
     "output_type": "stream",
     "text": [
      "0\n",
      "1\n",
      "1\n",
      "2\n",
      "3\n",
      "5\n",
      "8\n",
      "13\n",
      "21\n",
      "34\n"
     ]
    }
   ],
   "source": [
    "'''\n",
    "Q6. Write a python program to print the first 10 Fibonacci numbers using a while loop.\n",
    "'''\n",
    "\n",
    "# Program :-\n",
    "a, b = 0, 1\n",
    "count = 0\n",
    "\n",
    "while count < 10:\n",
    "    print(a)\n",
    "    a, b = b, a + b\n",
    "    count += 1"
   ]
  },
  {
   "cell_type": "code",
   "execution_count": 38,
   "id": "1ebcfd38",
   "metadata": {},
   "outputs": [
    {
     "name": "stdout",
     "output_type": "stream",
     "text": [
      "['p', 'w', 's', 'k', 'i', 'l', 'l', 's']\n"
     ]
    }
   ],
   "source": [
    "'''\n",
    "Q7. Write a List Comprehension to iterate through the given string: ‘pwskills’.\n",
    "Expected output: ['p', 'w', 's', 'k', 'i', 'l', 'l', 's']\n",
    "'''\n",
    "\n",
    "# Program :-\n",
    "string = 'pwskills'\n",
    "result = [char for char in string]\n",
    "print(result)"
   ]
  },
  {
   "cell_type": "code",
   "execution_count": 41,
   "id": "5fea5896",
   "metadata": {},
   "outputs": [
    {
     "name": "stdout",
     "output_type": "stream",
     "text": [
      "Enter a number: 52\n",
      "52 is not a palindrome.\n"
     ]
    }
   ],
   "source": [
    "'''\n",
    "Q8. Write a python program to check whether a given number is Palindrome or not using a while loop.\n",
    "'''\n",
    "\n",
    "# Program :-\n",
    "def is_palindrome(num):\n",
    "    original_num = num\n",
    "    reverse_num = 0\n",
    "\n",
    "    while num > 0:\n",
    "        remainder = num % 10\n",
    "        reverse_num = reverse_num * 10 + remainder\n",
    "        num = num // 10\n",
    "\n",
    "    if original_num == reverse_num:\n",
    "        return True\n",
    "    else:\n",
    "        return False\n",
    "\n",
    "number = int(input(\"Enter a number: \"))\n",
    "if is_palindrome(number):\n",
    "    print(number, \"is a palindrome.\")\n",
    "else:\n",
    "    print(number, \"is not a palindrome.\")"
   ]
  },
  {
   "cell_type": "code",
   "execution_count": 42,
   "id": "a04216e1",
   "metadata": {},
   "outputs": [
    {
     "name": "stdout",
     "output_type": "stream",
     "text": [
      "[1, 3, 5, 7, 9, 11, 13, 15, 17, 19, 21, 23, 25, 27, 29, 31, 33, 35, 37, 39, 41, 43, 45, 47, 49, 51, 53, 55, 57, 59, 61, 63, 65, 67, 69, 71, 73, 75, 77, 79, 81, 83, 85, 87, 89, 91, 93, 95, 97, 99]\n"
     ]
    }
   ],
   "source": [
    "'''\n",
    "Q9. Write a code to print odd numbers from 1 to 100 using list comprehension.\n",
    "'''\n",
    "\n",
    "# Program :-\n",
    "odd_numbers = [num for num in range(1, 101) if num % 2 != 0]\n",
    "print(odd_numbers)"
   ]
  },
  {
   "cell_type": "code",
   "execution_count": null,
   "id": "a2eb473d",
   "metadata": {},
   "outputs": [],
   "source": []
  }
 ],
 "metadata": {
  "kernelspec": {
   "display_name": "Python 3 (ipykernel)",
   "language": "python",
   "name": "python3"
  },
  "language_info": {
   "codemirror_mode": {
    "name": "ipython",
    "version": 3
   },
   "file_extension": ".py",
   "mimetype": "text/x-python",
   "name": "python",
   "nbconvert_exporter": "python",
   "pygments_lexer": "ipython3",
   "version": "3.11.5"
  }
 },
 "nbformat": 4,
 "nbformat_minor": 5
}
