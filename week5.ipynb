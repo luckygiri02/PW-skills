{
 "cells": [
  {
   "cell_type": "code",
   "execution_count": 1,
   "id": "6e6fd3a9",
   "metadata": {},
   "outputs": [],
   "source": [
    "import logging\n",
    "\n",
    "\n",
    "logging.basicConfig(filename='TryExcept.log', level=logging.DEBUG, format='%(asctime)s - %(name)s - %(levelname)s - %(message)s')"
   ]
  },
  {
   "cell_type": "code",
   "execution_count": 2,
   "id": "e39009d5",
   "metadata": {},
   "outputs": [
    {
     "ename": "ZeroDivisionError",
     "evalue": "division by zero",
     "output_type": "error",
     "traceback": [
      "\u001b[0;31m---------------------------------------------------------------------------\u001b[0m",
      "\u001b[0;31mZeroDivisionError\u001b[0m                         Traceback (most recent call last)",
      "Cell \u001b[0;32mIn[2], line 15\u001b[0m\n\u001b[1;32m     13\u001b[0m logging\u001b[38;5;241m.\u001b[39minfo(\u001b[38;5;124m'\u001b[39m\u001b[38;5;124mThis is Question 1 , Example 1\u001b[39m\u001b[38;5;124m'\u001b[39m)\n\u001b[1;32m     14\u001b[0m a \u001b[38;5;241m=\u001b[39m \u001b[38;5;241m7\u001b[39m\n\u001b[0;32m---> 15\u001b[0m \u001b[43ma\u001b[49m\u001b[38;5;241;43m/\u001b[39;49m\u001b[38;5;241;43m0\u001b[39;49m \u001b[38;5;66;03m#Division by zero is an exception\u001b[39;00m\n",
      "\u001b[0;31mZeroDivisionError\u001b[0m: division by zero"
     ]
    }
   ],
   "source": [
    "''' \n",
    "Question 1: What is an exception in python? Write the difference between Exceptions and syntax errors.\n",
    "\n",
    "Answer : An exception is an event, which occurs during the execution of a program that disrupts the normal flow of \n",
    "the program's instructions.\n",
    "In general, when a Python script encounters a situation that it cannot cope with, it raises an exception.\n",
    "Difference in syntax error and exception :\n",
    "Errors cannot be handled, while Python exceptions can be handled at the run time.\n",
    "An error can be a syntax (parsing) error, while there can be many types of exceptions that could occur during the execution\n",
    "and are not unconditionally inoperable.\n",
    "'''\n",
    "# Example of exception\n",
    "logging.info('This is Question 1 , Example 1')\n",
    "a = 7\n",
    "a/0 #Division by zero is an exception\n"
   ]
  },
  {
   "cell_type": "code",
   "execution_count": 3,
   "id": "5e799790",
   "metadata": {},
   "outputs": [
    {
     "ename": "SyntaxError",
     "evalue": "invalid syntax. Perhaps you forgot a comma? (3258616916.py, line 4)",
     "output_type": "error",
     "traceback": [
      "\u001b[0;36m  Cell \u001b[0;32mIn[3], line 4\u001b[0;36m\u001b[0m\n\u001b[0;31m    print(a b) #incorrect syntax here will raise syntax error\u001b[0m\n\u001b[0m          ^\u001b[0m\n\u001b[0;31mSyntaxError\u001b[0m\u001b[0;31m:\u001b[0m invalid syntax. Perhaps you forgot a comma?\n"
     ]
    }
   ],
   "source": [
    "# Example of syntax error\n",
    "a = 8\n",
    "b = 5\n",
    "print(a b) #incorrect syntax here will raise syntax error"
   ]
  },
  {
   "cell_type": "code",
   "execution_count": 4,
   "id": "a0f308b5",
   "metadata": {},
   "outputs": [
    {
     "ename": "ZeroDivisionError",
     "evalue": "division by zero",
     "output_type": "error",
     "traceback": [
      "\u001b[0;31m---------------------------------------------------------------------------\u001b[0m",
      "\u001b[0;31mZeroDivisionError\u001b[0m                         Traceback (most recent call last)",
      "Cell \u001b[0;32mIn[4], line 10\u001b[0m\n\u001b[1;32m      8\u001b[0m logging\u001b[38;5;241m.\u001b[39minfo(\u001b[38;5;124m'\u001b[39m\u001b[38;5;124mThis is Question 2 start\u001b[39m\u001b[38;5;124m'\u001b[39m)\n\u001b[1;32m      9\u001b[0m a \u001b[38;5;241m=\u001b[39m \u001b[38;5;241m56\u001b[39m\n\u001b[0;32m---> 10\u001b[0m \u001b[38;5;28mprint\u001b[39m(\u001b[43ma\u001b[49m\u001b[38;5;241;43m/\u001b[39;49m\u001b[38;5;241;43m0\u001b[39;49m) \u001b[38;5;66;03m# This will cause Zero Division Error\u001b[39;00m\n\u001b[1;32m     11\u001b[0m \u001b[38;5;28mprint\u001b[39m(a\u001b[38;5;241m+\u001b[39m\u001b[38;5;241m23\u001b[39m) \u001b[38;5;66;03m# None of these code and below lines will not excute because exception was not handled\u001b[39;00m\n\u001b[1;32m     12\u001b[0m \u001b[38;5;28mprint\u001b[39m(\u001b[38;5;124m'\u001b[39m\u001b[38;5;124mThis will not execute\u001b[39m\u001b[38;5;124m'\u001b[39m) \u001b[38;5;66;03m# Will not execute because exception not handled\u001b[39;00m\n",
      "\u001b[0;31mZeroDivisionError\u001b[0m: division by zero"
     ]
    }
   ],
   "source": [
    "'''\n",
    "Question 2: What happens if exception is not handled? Explain with an example.\n",
    "\n",
    "Answer : If Exception is not handled the code below the exception will not execute at all.\n",
    "        It will stop the program at exception.\n",
    "'''\n",
    "\n",
    "logging.info('This is Question 2 start')\n",
    "a = 56\n",
    "print(a/0) # This will cause Zero Division Error\n",
    "print(a+23) # None of these code and below lines will not excute because exception was not handled\n",
    "print('This will not execute') # Will not execute because exception not handled"
   ]
  },
  {
   "cell_type": "code",
   "execution_count": 5,
   "id": "3d58ade4",
   "metadata": {},
   "outputs": [
    {
     "name": "stdout",
     "output_type": "stream",
     "text": [
      "There is exception in this code: [Errno 2] No such file or directory: 'sample.txt'\n",
      "a=23, b= 45, a*b =1035\n"
     ]
    }
   ],
   "source": [
    "'''\n",
    "Question 3: Which Python Statements are used to catch and handle exceptions? Explain with an example.\n",
    "\n",
    "Answer : The try and except block in Python is used to catch and handle exceptions.\n",
    "'''\n",
    "# I'm Creating a file example reading exception handling\n",
    "logging.info('This is Start of Question 3')\n",
    "try:\n",
    "    # This code will be tried for execution\n",
    "    with open('sample.txt','r') as f:\n",
    "        print(f.read())\n",
    "        logging.info('Try block from question 3 executed')\n",
    "\n",
    "except Exception as e:\n",
    "    # Exception will be caught here and message will display\n",
    "    print('There is exception in this code:',e)\n",
    "    logging.exception('Except block from Question 3 executed')\n",
    "finally:\n",
    "    # This code will execute regardless wether try block executes or not\n",
    "    a = 23\n",
    "    b = 45\n",
    "    print(f'a={a}, b= {b}, a*b ={a*b}')\n",
    "    logging.info('Finally Block from Question 3 executed')"
   ]
  },
  {
   "cell_type": "code",
   "execution_count": 6,
   "id": "d18b3da0",
   "metadata": {},
   "outputs": [],
   "source": [
    "'''\n",
    "Question 4 : Explain with an example:\n",
    "\n",
    "1.Try and else\n",
    "2.finally\n",
    "3.raise\n",
    "\n",
    "\n",
    "'''\n",
    "# creating a custom function for division with Try, Except ,Else blocks\n",
    "def divide(a,b):\n",
    "    \"\"\"\n",
    "    This is division function with excption handling\n",
    "    \"\"\"\n",
    "    logging.info('This is Start of function divide')\n",
    "    try:\n",
    "        # Try block will execute if there is no exception\n",
    "        result = a/b\n",
    "        print('Try Block Executed.')\n",
    "        logging.info('Try Block executed')\n",
    "    except Exception as e:\n",
    "        # Except block will execute if exception found\n",
    "        print('Exception occured : ',e)\n",
    "        logging.exception('Except block executed')\n",
    "    else:\n",
    "        # This block will execute only if try block executed\n",
    "        print('Else Block Executed')\n",
    "        logging.info('Else Block executed')\n",
    "        return result"
   ]
  },
  {
   "cell_type": "code",
   "execution_count": 7,
   "id": "25eccfff",
   "metadata": {},
   "outputs": [
    {
     "name": "stdout",
     "output_type": "stream",
     "text": [
      "Try Block Executed.\n",
      "Else Block Executed\n"
     ]
    },
    {
     "data": {
      "text/plain": [
       "1.25"
      ]
     },
     "execution_count": 7,
     "metadata": {},
     "output_type": "execute_result"
    }
   ],
   "source": [
    "# Test Case 1 : Both are numbers excluding 0\n",
    "divide(5,4)"
   ]
  },
  {
   "cell_type": "code",
   "execution_count": 8,
   "id": "af1ba1bb",
   "metadata": {},
   "outputs": [
    {
     "name": "stdout",
     "output_type": "stream",
     "text": [
      "Try Block Executed.\n",
      "Else Block Executed\n"
     ]
    },
    {
     "data": {
      "text/plain": [
       "0.0"
      ]
     },
     "execution_count": 8,
     "metadata": {},
     "output_type": "execute_result"
    }
   ],
   "source": [
    "# Test case 2 : Numerator 0 , Denominator non-zero\n",
    "divide(0,6)"
   ]
  },
  {
   "cell_type": "code",
   "execution_count": 9,
   "id": "d37446f9",
   "metadata": {},
   "outputs": [
    {
     "name": "stdout",
     "output_type": "stream",
     "text": [
      "Exception occured :  division by zero\n"
     ]
    }
   ],
   "source": [
    "# Test Case 3 : Zero in denominator\n",
    "divide(1002,0)"
   ]
  },
  {
   "cell_type": "code",
   "execution_count": 10,
   "id": "bd069cf7",
   "metadata": {},
   "outputs": [
    {
     "name": "stdout",
     "output_type": "stream",
     "text": [
      "Exception Occured : unsupported operand type(s) for +: 'int' and 'str'\n",
      "This Finally Block will always be executed\n"
     ]
    }
   ],
   "source": [
    "'''\n",
    "2.Finally : This code block will always execute .Regardless wether try, except, else blocks are executed\n",
    "\n",
    "'''\n",
    "logging.info('Explaining Finally block code of Question 3')\n",
    "try:\n",
    "    # Try block executes if no exception occurs\n",
    "    a = 1\n",
    "    b = '23'\n",
    "    c = a + b\n",
    "    print(c)\n",
    "    logging.info('Try Block executed')\n",
    "except Exception as e:\n",
    "    # Except block will execute if exception occurs\n",
    "    print('Exception Occured :',e)\n",
    "    logging.exception('Except block executed')\n",
    "finally:\n",
    "    # Finally Block will always execute regardless of exception found or not\n",
    "    print('This Finally Block will always be executed')\n",
    "    logging.info('Finally Block executed')"
   ]
  },
  {
   "cell_type": "code",
   "execution_count": 11,
   "id": "0423a9bc",
   "metadata": {},
   "outputs": [],
   "source": [
    "# Take input as mobile number and raise error if it is not 10 digits and numeric\n",
    "def mob_num():\n",
    "    logging.info('This is start of mob_num function from Question 3 Raise explaination')\n",
    "    mob = input('Enter Mobile number : ')\n",
    "    print('The moblie number entered is',mob)\n",
    "    # Check if length of mobile number is 10 digits and length is 10 digits\n",
    "    if len(mob)!=10 or mob.isnumeric()!= True:\n",
    "        logging.exception('Exception occured invalid mobile number')\n",
    "        raise Exception('Invalid Mobile number is entered') "
   ]
  },
  {
   "cell_type": "code",
   "execution_count": 12,
   "id": "83f7939a",
   "metadata": {},
   "outputs": [
    {
     "name": "stdin",
     "output_type": "stream",
     "text": [
      "Enter Mobile number :  54554\n"
     ]
    },
    {
     "name": "stdout",
     "output_type": "stream",
     "text": [
      "The moblie number entered is 54554\n"
     ]
    },
    {
     "ename": "Exception",
     "evalue": "Invalid Mobile number is entered",
     "output_type": "error",
     "traceback": [
      "\u001b[0;31m---------------------------------------------------------------------------\u001b[0m",
      "\u001b[0;31mException\u001b[0m                                 Traceback (most recent call last)",
      "Cell \u001b[0;32mIn[12], line 2\u001b[0m\n\u001b[1;32m      1\u001b[0m \u001b[38;5;66;03m# Case 1 : Entering digits less than 10\u001b[39;00m\n\u001b[0;32m----> 2\u001b[0m \u001b[43mmob_num\u001b[49m\u001b[43m(\u001b[49m\u001b[43m)\u001b[49m\n",
      "Cell \u001b[0;32mIn[11], line 9\u001b[0m, in \u001b[0;36mmob_num\u001b[0;34m()\u001b[0m\n\u001b[1;32m      7\u001b[0m \u001b[38;5;28;01mif\u001b[39;00m \u001b[38;5;28mlen\u001b[39m(mob)\u001b[38;5;241m!=\u001b[39m\u001b[38;5;241m10\u001b[39m \u001b[38;5;129;01mor\u001b[39;00m mob\u001b[38;5;241m.\u001b[39misnumeric()\u001b[38;5;241m!=\u001b[39m \u001b[38;5;28;01mTrue\u001b[39;00m:\n\u001b[1;32m      8\u001b[0m     logging\u001b[38;5;241m.\u001b[39mexception(\u001b[38;5;124m'\u001b[39m\u001b[38;5;124mException occured invalid mobile number\u001b[39m\u001b[38;5;124m'\u001b[39m)\n\u001b[0;32m----> 9\u001b[0m     \u001b[38;5;28;01mraise\u001b[39;00m \u001b[38;5;167;01mException\u001b[39;00m(\u001b[38;5;124m'\u001b[39m\u001b[38;5;124mInvalid Mobile number is entered\u001b[39m\u001b[38;5;124m'\u001b[39m)\n",
      "\u001b[0;31mException\u001b[0m: Invalid Mobile number is entered"
     ]
    }
   ],
   "source": [
    "# Case 1 : Entering digits less than 10\n",
    "mob_num()"
   ]
  },
  {
   "cell_type": "code",
   "execution_count": 13,
   "id": "998baf7a-e85c-4a19-8337-aa8f3e08d785",
   "metadata": {},
   "outputs": [
    {
     "name": "stdin",
     "output_type": "stream",
     "text": [
      "Enter Mobile number :  fdfd\n"
     ]
    },
    {
     "name": "stdout",
     "output_type": "stream",
     "text": [
      "The moblie number entered is fdfd\n"
     ]
    },
    {
     "ename": "Exception",
     "evalue": "Invalid Mobile number is entered",
     "output_type": "error",
     "traceback": [
      "\u001b[0;31m---------------------------------------------------------------------------\u001b[0m",
      "\u001b[0;31mException\u001b[0m                                 Traceback (most recent call last)",
      "Cell \u001b[0;32mIn[13], line 2\u001b[0m\n\u001b[1;32m      1\u001b[0m \u001b[38;5;66;03m# Case 2: Entering 10 digit number but has alphabets\u001b[39;00m\n\u001b[0;32m----> 2\u001b[0m \u001b[43mmob_num\u001b[49m\u001b[43m(\u001b[49m\u001b[43m)\u001b[49m\n",
      "Cell \u001b[0;32mIn[11], line 9\u001b[0m, in \u001b[0;36mmob_num\u001b[0;34m()\u001b[0m\n\u001b[1;32m      7\u001b[0m \u001b[38;5;28;01mif\u001b[39;00m \u001b[38;5;28mlen\u001b[39m(mob)\u001b[38;5;241m!=\u001b[39m\u001b[38;5;241m10\u001b[39m \u001b[38;5;129;01mor\u001b[39;00m mob\u001b[38;5;241m.\u001b[39misnumeric()\u001b[38;5;241m!=\u001b[39m \u001b[38;5;28;01mTrue\u001b[39;00m:\n\u001b[1;32m      8\u001b[0m     logging\u001b[38;5;241m.\u001b[39mexception(\u001b[38;5;124m'\u001b[39m\u001b[38;5;124mException occured invalid mobile number\u001b[39m\u001b[38;5;124m'\u001b[39m)\n\u001b[0;32m----> 9\u001b[0m     \u001b[38;5;28;01mraise\u001b[39;00m \u001b[38;5;167;01mException\u001b[39;00m(\u001b[38;5;124m'\u001b[39m\u001b[38;5;124mInvalid Mobile number is entered\u001b[39m\u001b[38;5;124m'\u001b[39m)\n",
      "\u001b[0;31mException\u001b[0m: Invalid Mobile number is entered"
     ]
    }
   ],
   "source": [
    "# Case 2: Entering 10 digit number but has alphabets\n",
    "mob_num()"
   ]
  },
  {
   "cell_type": "code",
   "execution_count": 14,
   "id": "d0056daf-e037-4b06-bdfe-529bcb6339d0",
   "metadata": {},
   "outputs": [
    {
     "name": "stdin",
     "output_type": "stream",
     "text": [
      "Enter Mobile number :  7000809078\n"
     ]
    },
    {
     "name": "stdout",
     "output_type": "stream",
     "text": [
      "The moblie number entered is 7000809078\n"
     ]
    }
   ],
   "source": [
    "# Case 3 : Entering all 10 digit mob number\n",
    "mob_num()"
   ]
  },
  {
   "cell_type": "code",
   "execution_count": null,
   "id": "ab2ddda4-c6df-445f-be60-488c66b3fd93",
   "metadata": {},
   "outputs": [],
   "source": [
    "'''\n",
    "Question 5 : What are custom Exceptions in python ? Why do we need Custom Exceptions? Explain with an Example.\n",
    "\n",
    "Answer: Built-in exceptions offer information about Python-related problems, and custom exceptions will add information\n",
    "about project-related problems. Example percentage value should always be between 0 to 100\n",
    "Python detects all the critical errors that occur during Compile-time and Runtime. \n",
    "It stops the program's execution if the error occurs and raises an exception. Some commonly raised Exceptions are ArithmeticError\n",
    ",AttributeError, ImportError, IOError, FileNotFoundError, etc.\n",
    "\n",
    "Sometimes we must enforce constraints on the values that specific program variables can take or save the program from running into\n",
    "an undesired state. In such situations, Python allows programmers to create User-defined Exceptions. To create a User-defined Exception\n",
    ", we need to create a class directly or indirectly derived from the built-in Exception class.\n"
   ]
  },
  {
   "cell_type": "code",
   "execution_count": 15,
   "id": "cf5e1277-0bb1-42d9-ab8e-c892f48c655d",
   "metadata": {},
   "outputs": [],
   "source": [
    "# Creating a custom class for custom exception\n",
    "class pcterror(Exception):\n",
    "    def __init__(self,msg):\n",
    "        self.msg = msg"
   ]
  },
  {
   "cell_type": "code",
   "execution_count": 16,
   "id": "8788a278-8458-4290-a30e-219c16fd1585",
   "metadata": {},
   "outputs": [
    {
     "name": "stdout",
     "output_type": "stream",
     "text": [
      "Percentage marks of student is :  80\n"
     ]
    }
   ],
   "source": [
    "# Check if percentage marks of entered is valid or not\n",
    "# Case 1 : Percentage between 0 and 100\n",
    "logging.info('Question 5 , case 1 started')\n",
    "pct = 80\n",
    "# Below is custom exception which checks if percentage is in between 0 and 100\n",
    "if pct<0 or pct>100:\n",
    "    logging.error('Percentage not in range')\n",
    "    raise pcterror('Invalid percentage entered') \n",
    "else:\n",
    "    print('Percentage marks of student is : ',pct)\n",
    "    logging.info('No Error occured')"
   ]
  },
  {
   "cell_type": "code",
   "execution_count": 17,
   "id": "ded4c42d-b398-4105-a9b9-98b08b9c68e3",
   "metadata": {},
   "outputs": [
    {
     "ename": "pcterror",
     "evalue": "Invalid percentage entered",
     "output_type": "error",
     "traceback": [
      "\u001b[0;31m---------------------------------------------------------------------------\u001b[0m",
      "\u001b[0;31mpcterror\u001b[0m                                  Traceback (most recent call last)",
      "Cell \u001b[0;32mIn[17], line 7\u001b[0m\n\u001b[1;32m      5\u001b[0m \u001b[38;5;28;01mif\u001b[39;00m pct\u001b[38;5;241m<\u001b[39m\u001b[38;5;241m0\u001b[39m \u001b[38;5;129;01mor\u001b[39;00m pct\u001b[38;5;241m>\u001b[39m\u001b[38;5;241m100\u001b[39m:\n\u001b[1;32m      6\u001b[0m     logging\u001b[38;5;241m.\u001b[39merror(\u001b[38;5;124m'\u001b[39m\u001b[38;5;124mPercentage not in range\u001b[39m\u001b[38;5;124m'\u001b[39m)\n\u001b[0;32m----> 7\u001b[0m     \u001b[38;5;28;01mraise\u001b[39;00m pcterror(\u001b[38;5;124m'\u001b[39m\u001b[38;5;124mInvalid percentage entered\u001b[39m\u001b[38;5;124m'\u001b[39m) \n\u001b[1;32m      8\u001b[0m \u001b[38;5;28;01melse\u001b[39;00m:\n\u001b[1;32m      9\u001b[0m     \u001b[38;5;28mprint\u001b[39m(\u001b[38;5;124m'\u001b[39m\u001b[38;5;124mPercentage marks of student is : \u001b[39m\u001b[38;5;124m'\u001b[39m,pct)\n",
      "\u001b[0;31mpcterror\u001b[0m: Invalid percentage entered"
     ]
    }
   ],
   "source": [
    "# Case 2 : Negative Percentage\n",
    "logging.info('Question 5 , case 2 started')\n",
    "pct = -20\n",
    "# Below is custom exception which checks if percentage is in between 0 and 100\n",
    "if pct<0 or pct>100:\n",
    "    logging.error('Percentage not in range')\n",
    "    raise pcterror('Invalid percentage entered') \n",
    "else:\n",
    "    print('Percentage marks of student is : ',pct)\n",
    "    logging.info('no error occured')"
   ]
  },
  {
   "cell_type": "code",
   "execution_count": 18,
   "id": "e84aa329-6112-4148-a3c4-8cb5a79320df",
   "metadata": {},
   "outputs": [
    {
     "ename": "pcterror",
     "evalue": "Invalid percentage entered",
     "output_type": "error",
     "traceback": [
      "\u001b[0;31m---------------------------------------------------------------------------\u001b[0m",
      "\u001b[0;31mpcterror\u001b[0m                                  Traceback (most recent call last)",
      "Cell \u001b[0;32mIn[18], line 7\u001b[0m\n\u001b[1;32m      5\u001b[0m \u001b[38;5;28;01mif\u001b[39;00m pct\u001b[38;5;241m<\u001b[39m\u001b[38;5;241m0\u001b[39m \u001b[38;5;129;01mor\u001b[39;00m pct\u001b[38;5;241m>\u001b[39m\u001b[38;5;241m100\u001b[39m:\n\u001b[1;32m      6\u001b[0m     logging\u001b[38;5;241m.\u001b[39merror(\u001b[38;5;124m'\u001b[39m\u001b[38;5;124mPercentage not in range\u001b[39m\u001b[38;5;124m'\u001b[39m)\n\u001b[0;32m----> 7\u001b[0m     \u001b[38;5;28;01mraise\u001b[39;00m pcterror(\u001b[38;5;124m'\u001b[39m\u001b[38;5;124mInvalid percentage entered\u001b[39m\u001b[38;5;124m'\u001b[39m) \n\u001b[1;32m      8\u001b[0m \u001b[38;5;28;01melse\u001b[39;00m:\n\u001b[1;32m      9\u001b[0m     \u001b[38;5;28mprint\u001b[39m(\u001b[38;5;124m'\u001b[39m\u001b[38;5;124mPercentage marks of student is : \u001b[39m\u001b[38;5;124m'\u001b[39m,pct)\n",
      "\u001b[0;31mpcterror\u001b[0m: Invalid percentage entered"
     ]
    }
   ],
   "source": [
    "# Case 3 : Percentage > 100\n",
    "logging.info('Question 5 , case 3 started')\n",
    "pct = 135\n",
    "# Below is custom exception which checks if percentage is in between 0 and 100\n",
    "if pct<0 or pct>100:\n",
    "    logging.error('Percentage not in range')\n",
    "    raise pcterror('Invalid percentage entered') \n",
    "else:\n",
    "    print('Percentage marks of student is : ',pct)\n",
    "    logging.info('No error in code')"
   ]
  },
  {
   "cell_type": "code",
   "execution_count": null,
   "id": "b74c5614-104f-44bb-8683-4f5881dd3128",
   "metadata": {},
   "outputs": [],
   "source": [
    "'''\n",
    "Question 6 : Create a custom exception class . Use this class to handle exception\n",
    "Answer : I'm Creating a custom exception to validate PAN Card number Below are rules\n",
    "         Length of Characters must be 10\n",
    "         First 5 characters string out of which first 3 are random\n",
    "         The fourth character of PAN represents the status of the PAN holder must be from ['P','C','H', 'F', 'A', 'T', 'B', 'L', 'J', 'G']\n",
    "         5th Character must be same as First Letter of surname\n",
    "        Next 4 characters (from 6 to 9) should be number\n",
    "        Last character should be a alphabet\n",
    "'''"
   ]
  },
  {
   "cell_type": "code",
   "execution_count": 19,
   "id": "3ddd5a21-67da-411b-9f10-5ae7fe743b1f",
   "metadata": {},
   "outputs": [],
   "source": [
    "#Creating a custom exception class to validate PAN Card number\n",
    "\n",
    "class validatePAN(Exception):\n",
    "    # This class ValidatePAN is child of Parent class Exception\n",
    "    def __init__(self, msg):\n",
    "        self.msg = msg"
   ]
  },
  {
   "cell_type": "code",
   "execution_count": 20,
   "id": "3d5d1f58-d0b1-4df7-9bb6-1665251a1004",
   "metadata": {},
   "outputs": [],
   "source": [
    "# Custon Definition to validate pan number\n",
    "def validate_pan_number(surname,pan):\n",
    "\n",
    "    logging.info('Validate pan function started')\n",
    "    \n",
    "    # Condition 1 Check if Surname is entered alphabetic\n",
    "    if not surname.isalpha():\n",
    "        logging.error('Surname error , Surname cannot have numbers')\n",
    "        raise validatePAN('Surname cannot consist of numbers')\n",
    "    \n",
    "    # Condition 2 Check PAN Card Length it must be = 10\n",
    "    elif len(pan)!=10:\n",
    "        logging.error('PAN Number length is not equal to 10')\n",
    "        raise validatePAN('Length of PAN Card should be 10 digits')\n",
    "    \n",
    "    # Condition 3 first 3 charaters should be letters\n",
    "    elif not pan[0:2].isalpha():\n",
    "        logging.error('First 3 letters of PAN Number are not characters')\n",
    "        raise validatePAN('First Three characters of Pan Card Must be Letters')\n",
    "    \n",
    "    # Condition 4 Fourth letters must belong in ['P','C','H', 'F', 'A', 'T', 'B', 'L', 'J', 'G'] \n",
    "    elif pan[3] not in ['P','C','H', 'F', 'A', 'T', 'B', 'L', 'J', 'G']:\n",
    "        logging.error('PAN Category invalid')\n",
    "        raise validatePAN(\"4th Letter must be any of ['P','C','H', 'F', 'A', 'T', 'B', 'L', 'J', 'G']\")\n",
    "    \n",
    "    # Condition 5 Fifth letter of PAN Card must match with 1st letter of surname \n",
    "    # Case Unification done if characters enterd in different case\n",
    "    elif surname[0].upper()!=pan[4].upper():\n",
    "        logging.error('1st Letter of Surname and 5th Letter of PAN not matching')\n",
    "        raise validatePAN(\"First Digit of surname not matching with 5th Letter of pan\")\n",
    "    \n",
    "    # Condition 6 Next 4 characters should be numeric \n",
    "    elif not pan[5:9].isnumeric():\n",
    "        logging.error('Characters 6 to 9 not numeric')\n",
    "        raise validatePAN(\"Characters from 6 to 9 should be numbers\")\n",
    "    \n",
    "    # Condition 7 Last Character must be alphabet\n",
    "    elif not pan[-1].isalpha():\n",
    "        logging.error('Last character in not an alphabet')\n",
    "        raise validatePAN(\"Last Character of PAN must be a Alphabet\")\n",
    "    \n",
    "    # If all above condition satisfy Pan Number is valid\n",
    "    else:\n",
    "        print('PAN Number is valid')\n",
    "        logging.info('PAN Card number is Valid')"
   ]
  },
  {
   "cell_type": "code",
   "execution_count": 21,
   "id": "e2801843-6861-44fc-92e3-b7d45e45ea5b",
   "metadata": {},
   "outputs": [
    {
     "name": "stdout",
     "output_type": "stream",
     "text": [
      "PAN Number is valid\n"
     ]
    }
   ],
   "source": [
    "# Test Case 1 : Checking a Valid pan number and surname\n",
    "logging.info('Test Case 1 , Question 6')\n",
    "try:\n",
    "    surname = 'gaikwad'\n",
    "    pan = 'AAAPG1234F'\n",
    "    validate_pan_number(surname,pan)\n",
    "    logging.info('Try Block executed')\n",
    "except validatePAN as e:\n",
    "    print(e)\n",
    "    logging.exception('Except block executed')"
   ]
  },
  {
   "cell_type": "code",
   "execution_count": 22,
   "id": "7c425d69-e90a-45f0-b28d-6ebbca8e00c4",
   "metadata": {},
   "outputs": [
    {
     "name": "stdout",
     "output_type": "stream",
     "text": [
      "Surname cannot consist of numbers\n"
     ]
    }
   ],
   "source": [
    "# Test case 2 : Entering invalid surname\n",
    "logging.info('Test Case 2 , Question 6')\n",
    "try:\n",
    "    surname = '123skfm'\n",
    "    pan = 'AAAPG1234F'\n",
    "    validate_pan_number(surname,pan)\n",
    "    logging.info('Try Block executed')\n",
    "except validatePAN as e:\n",
    "    print(e)\n",
    "    logging.exception('Except block executed')"
   ]
  },
  {
   "cell_type": "code",
   "execution_count": 23,
   "id": "5ce35668-458a-48b7-87e9-45a1bdc132c7",
   "metadata": {},
   "outputs": [
    {
     "name": "stdout",
     "output_type": "stream",
     "text": [
      "Length of PAN Card should be 10 digits\n"
     ]
    }
   ],
   "source": [
    "# Test Case 3 : Entering Pan Number Less than 10 numbers\n",
    "logging.info('Test Case 3 , Question 6')\n",
    "try:\n",
    "    surname = 'gaikwad'\n",
    "    pan = 'AAAPG12'\n",
    "    validate_pan_number(surname,pan)\n",
    "    logging.info('Try Block executed')\n",
    "except validatePAN as e:\n",
    "    print(e)\n",
    "    logging.exception('Except block executed')"
   ]
  },
  {
   "cell_type": "code",
   "execution_count": 24,
   "id": "756fffb2-b490-472f-a012-f19dd988f96b",
   "metadata": {},
   "outputs": [
    {
     "name": "stdout",
     "output_type": "stream",
     "text": [
      "First Three characters of Pan Card Must be Letters\n"
     ]
    }
   ],
   "source": [
    "# Test Case 4 : Entering Pan Number Less than 10 numbers First 3 letters of pancard is not alphabet\n",
    "logging.info('Test Case 4 , Question 6')\n",
    "try:\n",
    "    surname = 'gaikwad'\n",
    "    pan = 'A2APG1234F'\n",
    "    validate_pan_number(surname,pan)\n",
    "    logging.info('Try Block executed')\n",
    "except validatePAN as e:\n",
    "    print(e)\n",
    "    logging.exception('Except block executed')"
   ]
  },
  {
   "cell_type": "code",
   "execution_count": 25,
   "id": "928ff245-af74-41c3-ba9c-7dea6e40f4d3",
   "metadata": {},
   "outputs": [
    {
     "name": "stdout",
     "output_type": "stream",
     "text": [
      "4th Letter must be any of ['P','C','H', 'F', 'A', 'T', 'B', 'L', 'J', 'G']\n"
     ]
    }
   ],
   "source": [
    "# Test Case 4: Letter 4 not belonging from ['P','C','H', 'F', 'A', 'T', 'B', 'L', 'J', 'G']\n",
    "logging.info('Test Case 4 , Question 6') \n",
    "try:\n",
    "    surname = 'gaikwad'\n",
    "    pan = 'AAAZG1234F'\n",
    "    validate_pan_number(surname,pan)\n",
    "    logging.info('Try Block executed')\n",
    "except validatePAN as e:\n",
    "    print(e)\n",
    "    logging.exception('Except block executed')\n",
    "    "
   ]
  },
  {
   "cell_type": "code",
   "execution_count": 26,
   "id": "062cfd1e-14b9-4776-812a-9afe49aaade8",
   "metadata": {},
   "outputs": [
    {
     "name": "stdout",
     "output_type": "stream",
     "text": [
      "First Digit of surname not matching with 5th Letter of pan\n"
     ]
    }
   ],
   "source": [
    "# Test Case 5: First letter of surname and 5th character of PAN Number not matching\n",
    "logging.info('Test Case 5 , Question 6')\n",
    "try:\n",
    "    surname = 'gaikwad'\n",
    "    pan = 'AAAPX1234F'\n",
    "    validate_pan_number(surname,pan)\n",
    "    logging.info('Try Block executed')\n",
    "except validatePAN as e:\n",
    "    print(e)\n",
    "    logging.exception('Except block executed')"
   ]
  },
  {
   "cell_type": "code",
   "execution_count": 27,
   "id": "eeabea69-2891-4dbc-a815-314b155e936e",
   "metadata": {},
   "outputs": [
    {
     "name": "stdout",
     "output_type": "stream",
     "text": [
      "Characters from 6 to 9 should be numbers\n"
     ]
    }
   ],
   "source": [
    "# Test Case 6: Characters from 6 to 9 are not numbers\n",
    "logging.info('Test Case 6 , Question 6')\n",
    "try:\n",
    "    surname = 'gaikwad'\n",
    "    pan = 'AAAPG12N4F'\n",
    "    validate_pan_number(surname,pan)\n",
    "    logging.info('Try Block executed')\n",
    "except validatePAN as e:\n",
    "    print(e)\n",
    "    logging.exception('Except block executed')"
   ]
  },
  {
   "cell_type": "code",
   "execution_count": 28,
   "id": "f035858d-4939-415e-bc46-b07d9a3d4df6",
   "metadata": {},
   "outputs": [
    {
     "name": "stdout",
     "output_type": "stream",
     "text": [
      "Last Character of PAN must be a Alphabet\n"
     ]
    }
   ],
   "source": [
    "# Test Case 7: Last Character must be Alphabet\n",
    "logging.info('Test Case 7 , Question 6')\n",
    "try:\n",
    "    surname = 'gaikwad'\n",
    "    pan = 'AAAPG12345'\n",
    "    validate_pan_number(surname,pan)\n",
    "    logging.info('Try Block executed')\n",
    "except validatePAN as e:\n",
    "    print(e)\n",
    "    logging.exception('Except Block executed')"
   ]
  },
  {
   "cell_type": "code",
   "execution_count": 29,
   "id": "720ac30d-9483-4c4d-b758-2cdcc442b39e",
   "metadata": {},
   "outputs": [
    {
     "name": "stdout",
     "output_type": "stream",
     "text": [
      "PAN Number is valid\n"
     ]
    }
   ],
   "source": [
    "# Test Case 8 : Random Test case\n",
    "logging.info('Test Case 8 , Question 6')\n",
    "try:\n",
    "    surname ='Naik'\n",
    "    pan = 'ACXPN4567D'\n",
    "    validate_pan_number(surname,pan)\n",
    "    logging.info('Try Block executed')\n",
    "except validatePAN as e:\n",
    "    print(e)\n",
    "    logging.exception('Except Block executed')"
   ]
  },
  {
   "cell_type": "code",
   "execution_count": null,
   "id": "9e386e02-7cb9-4a1f-be1e-e1e3a75c3fcf",
   "metadata": {},
   "outputs": [],
   "source": [
    "'''\n",
    "Showing logfile results\n",
    "'''"
   ]
  },
  {
   "cell_type": "code",
   "execution_count": 30,
   "id": "4ab6b366-f9e5-4f20-9540-57c2194b82f2",
   "metadata": {},
   "outputs": [],
   "source": [
    "# Shutdown logging first\n",
    "logging.shutdown()"
   ]
  },
  {
   "cell_type": "code",
   "execution_count": 31,
   "id": "af4fb3af-9760-429f-b107-125aab429e3c",
   "metadata": {},
   "outputs": [
    {
     "name": "stdout",
     "output_type": "stream",
     "text": [
      "2024-01-24 17:26:40,517 - root - INFO - This is Question 1 , Example 1\n",
      "2024-01-24 17:26:42,220 - root - INFO - This is Question 2 start\n",
      "2024-01-24 17:26:42,728 - root - INFO - This is Start of Question 3\n",
      "2024-01-24 17:26:42,729 - root - ERROR - Except block from Question 3 executed\n",
      "Traceback (most recent call last):\n",
      "  File \"/tmp/ipykernel_85/16867643.py\", line 10, in <module>\n",
      "    with open('sample.txt','r') as f:\n",
      "  File \"/opt/conda/lib/python3.10/site-packages/IPython/core/interactiveshell.py\", line 282, in _modified_open\n",
      "    return io_open(file, *args, **kwargs)\n",
      "FileNotFoundError: [Errno 2] No such file or directory: 'sample.txt'\n",
      "2024-01-24 17:26:42,729 - root - INFO - Finally Block from Question 3 executed\n",
      "2024-01-24 17:26:44,173 - root - INFO - This is Start of function divide\n",
      "2024-01-24 17:26:44,174 - root - INFO - Try Block executed\n",
      "2024-01-24 17:26:44,174 - root - INFO - Else Block executed\n",
      "2024-01-24 17:26:44,672 - root - INFO - This is Start of function divide\n",
      "2024-01-24 17:26:44,672 - root - INFO - Try Block executed\n",
      "2024-01-24 17:26:44,672 - root - INFO - Else Block executed\n",
      "2024-01-24 17:26:45,042 - root - INFO - This is Start of function divide\n",
      "2024-01-24 17:26:45,043 - root - ERROR - Except block executed\n",
      "Traceback (most recent call last):\n",
      "  File \"/tmp/ipykernel_85/1210151357.py\", line 18, in divide\n",
      "    result = a/b\n",
      "ZeroDivisionError: division by zero\n",
      "2024-01-24 17:26:45,595 - root - INFO - Explaining Finally block code of Question 3\n",
      "2024-01-24 17:26:45,596 - root - ERROR - Except block executed\n",
      "Traceback (most recent call last):\n",
      "  File \"/tmp/ipykernel_85/686738777.py\", line 10, in <module>\n",
      "    c = a + b\n",
      "TypeError: unsupported operand type(s) for +: 'int' and 'str'\n",
      "2024-01-24 17:26:45,596 - root - INFO - Finally Block executed\n",
      "2024-01-24 17:26:46,777 - root - INFO - This is start of mob_num function from Question 3 Raise explaination\n",
      "2024-01-24 17:27:17,146 - root - ERROR - Exception occured invalid mobile number\n",
      "NoneType: None\n",
      "2024-01-24 17:27:47,341 - root - INFO - This is start of mob_num function from Question 3 Raise explaination\n",
      "2024-01-24 17:27:50,314 - root - ERROR - Exception occured invalid mobile number\n",
      "NoneType: None\n",
      "2024-01-24 17:28:03,740 - root - INFO - This is start of mob_num function from Question 3 Raise explaination\n",
      "2024-01-24 17:30:41,526 - root - INFO - Question 5 , case 1 started\n",
      "2024-01-24 17:30:41,526 - root - INFO - No Error occured\n",
      "2024-01-24 17:30:56,934 - root - INFO - Question 5 , case 2 started\n",
      "2024-01-24 17:30:56,934 - root - ERROR - Percentage not in range\n",
      "2024-01-24 17:31:09,586 - root - INFO - Question 5 , case 3 started\n",
      "2024-01-24 17:31:09,587 - root - ERROR - Percentage not in range\n",
      "2024-01-24 17:33:00,959 - root - INFO - Test Case 1 , Question 6\n",
      "2024-01-24 17:33:00,960 - root - INFO - Validate pan function started\n",
      "2024-01-24 17:33:00,960 - root - INFO - PAN Card number is Valid\n",
      "2024-01-24 17:33:00,960 - root - INFO - Try Block executed\n",
      "2024-01-24 17:33:13,963 - root - INFO - Test Case 2 , Question 6\n",
      "2024-01-24 17:33:13,964 - root - INFO - Validate pan function started\n",
      "2024-01-24 17:33:13,964 - root - ERROR - Surname error , Surname cannot have numbers\n",
      "2024-01-24 17:33:13,964 - root - ERROR - Except block executed\n",
      "Traceback (most recent call last):\n",
      "  File \"/tmp/ipykernel_85/2302266496.py\", line 6, in <module>\n",
      "    validate_pan_number(surname,pan)\n",
      "  File \"/tmp/ipykernel_85/1536309593.py\", line 9, in validate_pan_number\n",
      "    raise validatePAN('Surname cannot consist of numbers')\n",
      "validatePAN: Surname cannot consist of numbers\n",
      "2024-01-24 17:33:30,709 - root - INFO - Test Case 3 , Question 6\n",
      "2024-01-24 17:33:30,710 - root - INFO - Validate pan function started\n",
      "2024-01-24 17:33:30,710 - root - ERROR - PAN Number length is not equal to 10\n",
      "2024-01-24 17:33:30,710 - root - ERROR - Except block executed\n",
      "Traceback (most recent call last):\n",
      "  File \"/tmp/ipykernel_85/3688708175.py\", line 6, in <module>\n",
      "    validate_pan_number(surname,pan)\n",
      "  File \"/tmp/ipykernel_85/1536309593.py\", line 14, in validate_pan_number\n",
      "    raise validatePAN('Length of PAN Card should be 10 digits')\n",
      "validatePAN: Length of PAN Card should be 10 digits\n",
      "2024-01-24 17:33:48,002 - root - INFO - Test Case 4 , Question 6\n",
      "2024-01-24 17:33:48,002 - root - INFO - Validate pan function started\n",
      "2024-01-24 17:33:48,003 - root - ERROR - First 3 letters of PAN Number are not characters\n",
      "2024-01-24 17:33:48,003 - root - ERROR - Except block executed\n",
      "Traceback (most recent call last):\n",
      "  File \"/tmp/ipykernel_85/868844381.py\", line 6, in <module>\n",
      "    validate_pan_number(surname,pan)\n",
      "  File \"/tmp/ipykernel_85/1536309593.py\", line 19, in validate_pan_number\n",
      "    raise validatePAN('First Three characters of Pan Card Must be Letters')\n",
      "validatePAN: First Three characters of Pan Card Must be Letters\n",
      "2024-01-24 17:34:01,072 - root - INFO - Test Case 4 , Question 6\n",
      "2024-01-24 17:34:01,073 - root - INFO - Validate pan function started\n",
      "2024-01-24 17:34:01,073 - root - ERROR - PAN Category invalid\n",
      "2024-01-24 17:34:01,073 - root - ERROR - Except block executed\n",
      "Traceback (most recent call last):\n",
      "  File \"/tmp/ipykernel_85/672058497.py\", line 6, in <module>\n",
      "    validate_pan_number(surname,pan)\n",
      "  File \"/tmp/ipykernel_85/1536309593.py\", line 24, in validate_pan_number\n",
      "    raise validatePAN(\"4th Letter must be any of ['P','C','H', 'F', 'A', 'T', 'B', 'L', 'J', 'G']\")\n",
      "validatePAN: 4th Letter must be any of ['P','C','H', 'F', 'A', 'T', 'B', 'L', 'J', 'G']\n",
      "2024-01-24 17:34:15,252 - root - INFO - Test Case 5 , Question 6\n",
      "2024-01-24 17:34:15,253 - root - INFO - Validate pan function started\n",
      "2024-01-24 17:34:15,253 - root - ERROR - 1st Letter of Surname and 5th Letter of PAN not matching\n",
      "2024-01-24 17:34:15,253 - root - ERROR - Except block executed\n",
      "Traceback (most recent call last):\n",
      "  File \"/tmp/ipykernel_85/2808962196.py\", line 6, in <module>\n",
      "    validate_pan_number(surname,pan)\n",
      "  File \"/tmp/ipykernel_85/1536309593.py\", line 30, in validate_pan_number\n",
      "    raise validatePAN(\"First Digit of surname not matching with 5th Letter of pan\")\n",
      "validatePAN: First Digit of surname not matching with 5th Letter of pan\n",
      "2024-01-24 17:34:26,757 - root - INFO - Test Case 6 , Question 6\n",
      "2024-01-24 17:34:26,758 - root - INFO - Validate pan function started\n",
      "2024-01-24 17:34:26,758 - root - ERROR - Characters 6 to 9 not numeric\n",
      "2024-01-24 17:34:26,758 - root - ERROR - Except block executed\n",
      "Traceback (most recent call last):\n",
      "  File \"/tmp/ipykernel_85/3642342128.py\", line 6, in <module>\n",
      "    validate_pan_number(surname,pan)\n",
      "  File \"/tmp/ipykernel_85/1536309593.py\", line 35, in validate_pan_number\n",
      "    raise validatePAN(\"Characters from 6 to 9 should be numbers\")\n",
      "validatePAN: Characters from 6 to 9 should be numbers\n",
      "2024-01-24 17:34:41,893 - root - INFO - Test Case 7 , Question 6\n",
      "2024-01-24 17:34:41,893 - root - INFO - Validate pan function started\n",
      "2024-01-24 17:34:41,893 - root - ERROR - Last character in not an alphabet\n",
      "2024-01-24 17:34:41,893 - root - ERROR - Except Block executed\n",
      "Traceback (most recent call last):\n",
      "  File \"/tmp/ipykernel_85/1685226048.py\", line 6, in <module>\n",
      "    validate_pan_number(surname,pan)\n",
      "  File \"/tmp/ipykernel_85/1536309593.py\", line 40, in validate_pan_number\n",
      "    raise validatePAN(\"Last Character of PAN must be a Alphabet\")\n",
      "validatePAN: Last Character of PAN must be a Alphabet\n",
      "2024-01-24 17:35:04,083 - root - INFO - Test Case 8 , Question 6\n",
      "2024-01-24 17:35:04,083 - root - INFO - Validate pan function started\n",
      "2024-01-24 17:35:04,083 - root - INFO - PAN Card number is Valid\n",
      "2024-01-24 17:35:04,083 - root - INFO - Try Block executed\n",
      "\n"
     ]
    }
   ],
   "source": [
    "with open('TryExcept.log','r') as f:\n",
    "    print(f.read())"
   ]
  },
  {
   "cell_type": "code",
   "execution_count": 32,
   "id": "8bc18ad8-322f-4d00-aea9-cd93bc0a96a9",
   "metadata": {},
   "outputs": [
    {
     "data": {
      "text/plain": [
       "'TryExceptLog.txt'"
      ]
     },
     "execution_count": 32,
     "metadata": {},
     "output_type": "execute_result"
    }
   ],
   "source": [
    "# Copying log and saving as text file\n",
    "import shutil\n",
    "shutil.copy('TryExcept.log','TryExceptLog.txt')"
   ]
  },
  {
   "cell_type": "code",
   "execution_count": null,
   "id": "81dae116-0672-4f13-ad68-4b7089e8b3a8",
   "metadata": {},
   "outputs": [],
   "source": []
  }
 ],
 "metadata": {
  "kernelspec": {
   "display_name": "Python 3 (ipykernel)",
   "language": "python",
   "name": "python3"
  },
  "language_info": {
   "codemirror_mode": {
    "name": "ipython",
    "version": 3
   },
   "file_extension": ".py",
   "mimetype": "text/x-python",
   "name": "python",
   "nbconvert_exporter": "python",
   "pygments_lexer": "ipython3",
   "version": "3.10.8"
  }
 },
 "nbformat": 4,
 "nbformat_minor": 5
}
